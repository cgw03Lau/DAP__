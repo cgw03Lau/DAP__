{
 "cells": [
  {
   "cell_type": "code",
   "execution_count": 376,
   "id": "09b9c21b-198c-4188-968a-a722c90dff2a",
   "metadata": {},
   "outputs": [],
   "source": [
    "import pandas as pd\n",
    "hn19 = pd.read_sas('./HN19_ALL.sas7bdat', format='sas7bdat')\n",
    "hn20 = pd.read_sas('./HN20_ALL.sas7bdat', format='sas7bdat')\n",
    "hn21 = pd.read_sas('./HN21_ALL.sas7bdat', format='sas7bdat')\n"
   ]
  },
  {
   "cell_type": "code",
   "execution_count": 377,
   "id": "29c8f967-18f3-4405-8081-378f1cc6bf18",
   "metadata": {},
   "outputs": [
    {
     "name": "stdout",
     "output_type": "stream",
     "text": [
      "896\n",
      "843\n",
      "840\n"
     ]
    }
   ],
   "source": [
    "print(len(hn19.columns.tolist()))\n",
    "print(len(hn20.columns.tolist()))\n",
    "print(len(hn21.columns.tolist()))"
   ]
  },
  {
   "cell_type": "code",
   "execution_count": 378,
   "id": "b5e2ef5c",
   "metadata": {},
   "outputs": [],
   "source": [
    "ob = ['BO1', 'BO1_1', 'BO1_2', 'BO1_3', 'BO2_1'] # 공통 \n",
    "obc = ['BO3_01', 'BO3_01', 'BO3_02', 'BO3_03', 'BO3_14', 'BO3_05', 'BO3_04', 'BO3_12', 'BO3_07',\n",
    "                          'BO3_09', 'BO3_10', 'BO3_11'] # 2019년도만 \n",
    "he_obe = ['HE_obe']\n",
    "\n",
    "'''\n",
    "【정의】\n",
    "(비임신자 중)\n",
    " 저체중: 체질량지수가 18.5kg/m2 미만인 사람\n",
    " 정상: 체질량지수가 18.5kg/m2 이상, 23kg/m2 미만인 사람\n",
    " 비만전단계: 체질량지수가 23kg/m2 이상, 25kg/m2 미만인 사람\n",
    " ④1단계비만: 체질량지수가 25kg/m2 이상, 30kg/m2 미만인 사람\n",
    " ⑤2단계비만: 체질량지수가 30kg/m2 이상, 35kg/m2 미만인 사람\n",
    " ⑥3단계비만: 체질량지수가 35kg/m2 이상인 사람\n",
    "'''\n",
    "#          집락      층화       가중치 \n",
    "default = ['psu', 'kstrata', 'wt_itvex', 'sex', 'age'] \n",
    "\n",
    "mental_depress= ['BP_PHQ_1', 'BP_PHQ_2', 'BP_PHQ_3', 'BP_PHQ_4', 'BP_PHQ_5', 'BP_PHQ_6', 'BP_PHQ_7',\n",
    "         'BP_PHQ_8', 'BP_PHQ_9', 'mh_PHQ_S'] # 2020년도만 \n",
    "mental_anxiety= ['BP_GAD_1', 'BP_GAD_2', 'BP_GAD_3', 'BP_GAD_4', 'BP_GAD_5', 'BP_GAD_6', 'BP_GAD_7',\n",
    "          'mh_GAD_S'] # 2021년만도만 해당 \n",
    "mental_stress=['BP1', 'BP5', 'BP6_10', 'BP6_2', 'BP6_31', 'BP7', 'mh_stress'] # 공통 \n",
    "\n",
    "sleep_time = ['BP16_1', 'BP16_2'] # 평일, 주말, 19~20년도 수면시간\n",
    "sleep1 = ['BP16_11', 'BP16_12', 'BP16_13', 'BP16_14'] #평일 21년도\n",
    "sleep2 = ['BP16_21', 'BP16_22', 'BP16_23', 'BP16_24'] #평일 21년도 \n",
    "columns_to_check = sleep1 + sleep2\n",
    "\n",
    "hn19 = hn19[~hn19[sleep_time].isin([88, 99]).any(axis=1)]\n",
    "hn20 = hn20[~hn20[sleep_time].isin([88, 99]).any(axis=1)]\n",
    "hn21 = hn21[~hn21[columns_to_check].isin([88, 99]).any(axis=1)]\n",
    "\n",
    "hn19 = hn19[~hn19['BO1'].isin([9])]\n",
    "hn20 = hn20[~hn20['BO1'].isin([9])]\n",
    "hn21 = hn21[~hn21['BO1'].isin([9])]\n"
   ]
  },
  {
   "cell_type": "code",
   "execution_count": 379,
   "id": "284d3ecf",
   "metadata": {},
   "outputs": [],
   "source": [
    "def sleep_duration(a, c, b, d):\n",
    "    sleep_time = a * 60 + c\n",
    "    wake_time = b * 60 + d\n",
    "\n",
    "    # 24시간 기준으로 시간 차이 계산\n",
    "    duration_minutes = wake_time - sleep_time\n",
    "    duration_minutes[duration_minutes < 0] += 24 * 60  \n",
    "\n",
    "    # 분을 시간으로 변환\n",
    "    duration_hours = duration_minutes / 60\n",
    "    return duration_hours\n",
    "\n",
    "day_21 = sleep_duration(hn21['BP16_11'], hn21['BP16_12'], hn21['BP16_13'], hn21['BP16_14'])\n",
    "day_21.name = 'BP16_1'\n",
    "end_21= sleep_duration(hn21['BP16_21'], hn21['BP16_22'], hn21['BP16_23'], hn21['BP16_24'])\n",
    "end_21.name = 'BP16_2'"
   ]
  },
  {
   "cell_type": "code",
   "execution_count": 380,
   "id": "18c90343",
   "metadata": {},
   "outputs": [
    {
     "name": "stdout",
     "output_type": "stream",
     "text": [
      "896\n",
      "7079\n",
      "7079\n"
     ]
    }
   ],
   "source": [
    "#가중치\n",
    "print(len(hn19.columns.tolist()))\n",
    "print(len(hn19['wt_itvex']))\n",
    "print(len(hn19[columns]))\n",
    "\n",
    "#제 8기 - 기본 가중치 합 - 검진조사 \n",
    "wt_tot = {2019 : 51386, 2020 : 51474, 2021 : 51531}"
   ]
  },
  {
   "cell_type": "code",
   "execution_count": 381,
   "id": "42fac7ff",
   "metadata": {},
   "outputs": [
    {
     "name": "stdout",
     "output_type": "stream",
     "text": [
      "<class 'pandas.core.frame.DataFrame'>\n",
      "Index: 17096 entries, 0 to 7087\n",
      "Data columns (total 10 columns):\n",
      " #   Column     Non-Null Count  Dtype  \n",
      "---  ------     --------------  -----  \n",
      " 0   psu        17096 non-null  object \n",
      " 1   kstrata    17096 non-null  float64\n",
      " 2   wt_itvex   17096 non-null  float64\n",
      " 3   sex        17096 non-null  float64\n",
      " 4   age        17096 non-null  float64\n",
      " 5   HE_obe     17096 non-null  float64\n",
      " 6   mh_stress  17096 non-null  float64\n",
      " 7   BO1        17096 non-null  float64\n",
      " 8   BP16_1     17096 non-null  float64\n",
      " 9   BP16_2     17096 non-null  float64\n",
      "dtypes: float64(9), object(1)\n",
      "memory usage: 1.4+ MB\n"
     ]
    }
   ],
   "source": [
    "#columns = default + ob + he_obe + mental_stress + sleep_time\n",
    "columns = default+['HE_obe','mh_stress','BO1','BP16_1','BP16_2']\n",
    "\n",
    "# 비만 데이터에 대한 전처리 \n",
    "df19 = hn19[columns]\n",
    "df20 = hn20[columns]\n",
    "df21 = hn21[default + ['HE_obe','mh_stress','BO1']]\n",
    "df21 = pd.concat([df21, day_21, end_21], axis=1)\n",
    "\n",
    "#수면건강 만 12세 이상 \n",
    "# 정신 건강 만 12세 이상\n",
    "# 비만 및 체중조절 만 6세 이상 \n",
    "df_combined = pd.concat([df19, df20, df21])\n",
    "df = df_combined.dropna(subset=['HE_obe', 'mh_stress', 'BP16_1'])\n",
    "df.info()"
   ]
  },
  {
   "cell_type": "markdown",
   "id": "2527979f",
   "metadata": {},
   "source": [
    "wt_itvex : 가중치 연속형  \n",
    "sex  :  성별 범주형 { 1 : '남자', 2: '여자' }  \n",
    "age : 나이 수치형  \n",
    "BO1 : 주관적 체형 인식 범주형 {1: '매우 마름', 2:'약간 마름', 3:'보통', 4:'약간 비만', 5:'매우 비만'}  \n",
    "BO1_1 : 1년간 체중 변화 여부  범주형 {1: '변화 없음', 2:'체중 감소', 3:'체중 증가', 4:'비해당'}  \n",
    "BO1_2 : 1년간 체중 감소량 범주형 {1: '3~6kg ', 2:'6~10kg', 3:'10kg 이상''}  \n",
    "BO1_3 : 1년간 체중 증가량 범주형 {1: '3~6kg ', 2:'6~10kg', 3:'10kg 이상'}  \n",
    "BO2_1 : 1년간 체중 조절 여부  범주형 {1: '감소 노력', 2:'유지 노력', 3:'증가 노력', 4:'노력 안함'}  \n",
    "HE_obe : 비만 유병여부(19세 이상)  범주형{1: '저체중', 2:'정상', 3:'비만전단계', 4:'1단계비만', 5:'2단계비만', 6:'3단계비만'}  \n",
    "BP1 : 평소 스트레스 인지 정도 {1 : '대단히 많이 느낌', 2: '많이 느낌', 3:'조금 느낌', 4:'거의 느끼지 않음'}  \n",
    "BP5: 2주이상 연속 우울감 여부 {1 : '예', 2: '아니오'}  \n",
    "BP6_10 : 1년간 자살 생각 여부 {1 : '예', 2: '아니오'}  \n",
    "BP6_2 : 1년간 자살 계획 여부 {1 : '예', 2: '아니오'}  \n",
    "BP6_31 : 1년간 자살 시도 여부 {1 : '예', 2: '아니오'}  \n",
    "BP7 : 1년간 정신문제 상담 여부 {1 : '예', 2: '아니오'}  \n",
    "mh_stress : 스트레스 인지율 {0 : '스트레스 적게느낌', 1: '스트레스 많이 느낌 '}  \n",
    "BP16_1 : 주중 하루 평균 수면 시간  수치형  \n",
    "BP16_2 : 주말 하루 평균 수면 시간  수치형  "
   ]
  },
  {
   "cell_type": "code",
   "execution_count": 382,
   "id": "88599dd0",
   "metadata": {},
   "outputs": [
    {
     "name": "stderr",
     "output_type": "stream",
     "text": [
      "C:\\Users\\lau\\AppData\\Local\\Temp\\ipykernel_31660\\1899013875.py:1: SettingWithCopyWarning: \n",
      "A value is trying to be set on a copy of a slice from a DataFrame.\n",
      "Try using .loc[row_indexer,col_indexer] = value instead\n",
      "\n",
      "See the caveats in the documentation: https://pandas.pydata.org/pandas-docs/stable/user_guide/indexing.html#returning-a-view-versus-a-copy\n",
      "  df['HE_obe'] = df['HE_obe'] >= 4.0\n"
     ]
    }
   ],
   "source": [
    "df['HE_obe'] = df['HE_obe'] >= 4.0"
   ]
  },
  {
   "cell_type": "code",
   "execution_count": 383,
   "id": "e71ccaaa",
   "metadata": {},
   "outputs": [
    {
     "data": {
      "text/html": [
       "<div>\n",
       "<style scoped>\n",
       "    .dataframe tbody tr th:only-of-type {\n",
       "        vertical-align: middle;\n",
       "    }\n",
       "\n",
       "    .dataframe tbody tr th {\n",
       "        vertical-align: top;\n",
       "    }\n",
       "\n",
       "    .dataframe thead th {\n",
       "        text-align: right;\n",
       "    }\n",
       "</style>\n",
       "<table border=\"1\" class=\"dataframe\">\n",
       "  <thead>\n",
       "    <tr style=\"text-align: right;\">\n",
       "      <th></th>\n",
       "      <th>psu</th>\n",
       "      <th>kstrata</th>\n",
       "      <th>wt_itvex</th>\n",
       "      <th>sex</th>\n",
       "      <th>age</th>\n",
       "      <th>HE_obe</th>\n",
       "      <th>mh_stress</th>\n",
       "      <th>BO1</th>\n",
       "      <th>BP16_1</th>\n",
       "      <th>BP16_2</th>\n",
       "    </tr>\n",
       "  </thead>\n",
       "  <tbody>\n",
       "    <tr>\n",
       "      <th>0</th>\n",
       "      <td>b'A751'</td>\n",
       "      <td>913.0</td>\n",
       "      <td>4701.714124</td>\n",
       "      <td>1.0</td>\n",
       "      <td>61.0</td>\n",
       "      <td>True</td>\n",
       "      <td>0.0</td>\n",
       "      <td>4.0</td>\n",
       "      <td>4.0</td>\n",
       "      <td>4.0</td>\n",
       "    </tr>\n",
       "    <tr>\n",
       "      <th>1</th>\n",
       "      <td>b'A751'</td>\n",
       "      <td>913.0</td>\n",
       "      <td>8827.818772</td>\n",
       "      <td>1.0</td>\n",
       "      <td>28.0</td>\n",
       "      <td>False</td>\n",
       "      <td>0.0</td>\n",
       "      <td>1.0</td>\n",
       "      <td>9.0</td>\n",
       "      <td>12.0</td>\n",
       "    </tr>\n",
       "    <tr>\n",
       "      <th>2</th>\n",
       "      <td>b'A751'</td>\n",
       "      <td>913.0</td>\n",
       "      <td>5511.539481</td>\n",
       "      <td>1.0</td>\n",
       "      <td>53.0</td>\n",
       "      <td>False</td>\n",
       "      <td>0.0</td>\n",
       "      <td>3.0</td>\n",
       "      <td>8.0</td>\n",
       "      <td>8.0</td>\n",
       "    </tr>\n",
       "    <tr>\n",
       "      <th>3</th>\n",
       "      <td>b'A751'</td>\n",
       "      <td>913.0</td>\n",
       "      <td>2992.038760</td>\n",
       "      <td>2.0</td>\n",
       "      <td>50.0</td>\n",
       "      <td>True</td>\n",
       "      <td>0.0</td>\n",
       "      <td>4.0</td>\n",
       "      <td>7.0</td>\n",
       "      <td>8.0</td>\n",
       "    </tr>\n",
       "    <tr>\n",
       "      <th>5</th>\n",
       "      <td>b'A751'</td>\n",
       "      <td>913.0</td>\n",
       "      <td>2316.663346</td>\n",
       "      <td>2.0</td>\n",
       "      <td>71.0</td>\n",
       "      <td>True</td>\n",
       "      <td>0.0</td>\n",
       "      <td>5.0</td>\n",
       "      <td>8.0</td>\n",
       "      <td>8.0</td>\n",
       "    </tr>\n",
       "  </tbody>\n",
       "</table>\n",
       "</div>"
      ],
      "text/plain": [
       "       psu  kstrata     wt_itvex  sex   age  HE_obe  mh_stress  BO1  BP16_1  \\\n",
       "0  b'A751'    913.0  4701.714124  1.0  61.0    True        0.0  4.0     4.0   \n",
       "1  b'A751'    913.0  8827.818772  1.0  28.0   False        0.0  1.0     9.0   \n",
       "2  b'A751'    913.0  5511.539481  1.0  53.0   False        0.0  3.0     8.0   \n",
       "3  b'A751'    913.0  2992.038760  2.0  50.0    True        0.0  4.0     7.0   \n",
       "5  b'A751'    913.0  2316.663346  2.0  71.0    True        0.0  5.0     8.0   \n",
       "\n",
       "   BP16_2  \n",
       "0     4.0  \n",
       "1    12.0  \n",
       "2     8.0  \n",
       "3     8.0  \n",
       "5     8.0  "
      ]
     },
     "execution_count": 383,
     "metadata": {},
     "output_type": "execute_result"
    }
   ],
   "source": [
    "df['BP16_1'].max()\n",
    "df.head(5)"
   ]
  },
  {
   "cell_type": "code",
   "execution_count": 384,
   "id": "8877e07e",
   "metadata": {
    "scrolled": true
   },
   "outputs": [
    {
     "data": {
      "text/html": [
       "<div>\n",
       "<style scoped>\n",
       "    .dataframe tbody tr th:only-of-type {\n",
       "        vertical-align: middle;\n",
       "    }\n",
       "\n",
       "    .dataframe tbody tr th {\n",
       "        vertical-align: top;\n",
       "    }\n",
       "\n",
       "    .dataframe thead th {\n",
       "        text-align: right;\n",
       "    }\n",
       "</style>\n",
       "<table border=\"1\" class=\"dataframe\">\n",
       "  <thead>\n",
       "    <tr style=\"text-align: right;\">\n",
       "      <th></th>\n",
       "      <th>HE_obe</th>\n",
       "      <th>mh_stress</th>\n",
       "      <th>BO1</th>\n",
       "      <th>BP16_1</th>\n",
       "      <th>BP16_2</th>\n",
       "    </tr>\n",
       "  </thead>\n",
       "  <tbody>\n",
       "    <tr>\n",
       "      <th>HE_obe</th>\n",
       "      <td>1.000000</td>\n",
       "      <td>0.017758</td>\n",
       "      <td>0.583461</td>\n",
       "      <td>-0.052397</td>\n",
       "      <td>-0.047646</td>\n",
       "    </tr>\n",
       "    <tr>\n",
       "      <th>mh_stress</th>\n",
       "      <td>0.017758</td>\n",
       "      <td>1.000000</td>\n",
       "      <td>0.060768</td>\n",
       "      <td>-0.068147</td>\n",
       "      <td>-0.005951</td>\n",
       "    </tr>\n",
       "    <tr>\n",
       "      <th>BO1</th>\n",
       "      <td>0.583461</td>\n",
       "      <td>0.060768</td>\n",
       "      <td>1.000000</td>\n",
       "      <td>-0.060078</td>\n",
       "      <td>-0.020635</td>\n",
       "    </tr>\n",
       "    <tr>\n",
       "      <th>BP16_1</th>\n",
       "      <td>-0.052397</td>\n",
       "      <td>-0.068147</td>\n",
       "      <td>-0.060078</td>\n",
       "      <td>1.000000</td>\n",
       "      <td>0.692943</td>\n",
       "    </tr>\n",
       "    <tr>\n",
       "      <th>BP16_2</th>\n",
       "      <td>-0.047646</td>\n",
       "      <td>-0.005951</td>\n",
       "      <td>-0.020635</td>\n",
       "      <td>0.692943</td>\n",
       "      <td>1.000000</td>\n",
       "    </tr>\n",
       "  </tbody>\n",
       "</table>\n",
       "</div>"
      ],
      "text/plain": [
       "             HE_obe  mh_stress       BO1    BP16_1    BP16_2\n",
       "HE_obe     1.000000   0.017758  0.583461 -0.052397 -0.047646\n",
       "mh_stress  0.017758   1.000000  0.060768 -0.068147 -0.005951\n",
       "BO1        0.583461   0.060768  1.000000 -0.060078 -0.020635\n",
       "BP16_1    -0.052397  -0.068147 -0.060078  1.000000  0.692943\n",
       "BP16_2    -0.047646  -0.005951 -0.020635  0.692943  1.000000"
      ]
     },
     "execution_count": 384,
     "metadata": {},
     "output_type": "execute_result"
    }
   ],
   "source": [
    "a = df[['HE_obe','mh_stress','BO1','BP16_1','BP16_2']]\n",
    "a.corr()"
   ]
  },
  {
   "cell_type": "code",
   "execution_count": 385,
   "id": "b03b5ec8",
   "metadata": {},
   "outputs": [
    {
     "name": "stdout",
     "output_type": "stream",
     "text": [
      "7637\n",
      "9459\n",
      "여성 데이터 - 변수의 빈도수와 백분율:\n",
      "남성 데이터 - `` \n",
      "{'HE_obe':          빈도수    백분율 (%)\n",
      "HE_obe                 \n",
      "False   4369  57.208328\n",
      "True    3268  42.791672, 'mh_stress':             빈도수    백분율 (%)\n",
      "mh_stress                 \n",
      "0.0        5803  75.985335\n",
      "1.0        1834  24.014665, 'BO1':       빈도수    백분율 (%)\n",
      "BO1                 \n",
      "3.0  2992  39.177688\n",
      "4.0  2718  35.589891\n",
      "2.0   975  12.766793\n",
      "5.0   643   8.419536\n",
      "1.0   309   4.046091}\n"
     ]
    }
   ],
   "source": [
    "import pandas as pd\n",
    "\n",
    "# 데이터프레임 불러오기 (df_combined는 여러분의 데이터프레임 이름으로 가정)\n",
    "# df_combined = pd.read_csv('your_data.csv') # CSV 파일의 경우\n",
    "\n",
    "# 성별에 따른 분리\n",
    "male_data = df[df['sex'] == 1]\n",
    "print(len(male_data))\n",
    "female_data = df[df['sex'] == 2]\n",
    "print(len(female_data))\n",
    "# 분석할 범주형 변수 목록\n",
    "categorical_columns = ['HE_obe','mh_stress','BO1']\n",
    "\n",
    "# 성별에 따른 빈도수와 백분율 계산 함수\n",
    "def calculate_frequency_and_percentage(data, columns):\n",
    "    results = {}\n",
    "    for col in columns:\n",
    "        counts = data[col].value_counts()\n",
    "        percentages = data[col].value_counts(normalize=True) * 100\n",
    "        results[col] = pd.DataFrame({'빈도수': counts, '백분율 (%)': percentages})\n",
    "    return results\n",
    "\n",
    "# 남성과 여성 데이터에 대한 빈도수와 백분율\n",
    "male_stats = calculate_frequency_and_percentage(male_data, categorical_columns)\n",
    "female_stats = calculate_frequency_and_percentage(female_data, categorical_columns)\n",
    "\n",
    "# 결과 출력 (예시로 남성 데이터의 첫 번째 변수에 대한 빈도수와 백분율 출력)\n",
    "print(\"여성 데이터 - 변수의 빈도수와 백분율:\")\n",
    "#print(female_stats)\n",
    "print(\"남성 데이터 - `` \")\n",
    "print(male_stats)"
   ]
  },
  {
   "cell_type": "code",
   "execution_count": 386,
   "id": "338311df",
   "metadata": {},
   "outputs": [
    {
     "name": "stdout",
     "output_type": "stream",
     "text": [
      "남성 데이터 - 주중 및 주말 수면 시간의 기술통계:\n",
      "            BP16_1       BP16_2\n",
      "count  8428.000000  8428.000000\n",
      "mean      6.885279     7.588220\n",
      "std       1.388219     1.647513\n",
      "min       1.000000     1.000000\n",
      "25%       6.000000     6.500000\n",
      "50%       7.000000     8.000000\n",
      "75%       8.000000     9.000000\n",
      "max      13.000000    19.000000\n",
      "\n",
      "여성 데이터 - 주중 및 주말 수면 시간의 기술통계:\n",
      "             BP16_1        BP16_2\n",
      "count  10239.000000  10239.000000\n",
      "mean       6.866551      7.488581\n",
      "std        1.462171      1.726366\n",
      "min        1.000000      1.000000\n",
      "25%        6.000000      6.000000\n",
      "50%        7.000000      7.500000\n",
      "75%        8.000000      9.000000\n",
      "max       15.000000     18.000000\n"
     ]
    }
   ],
   "source": [
    "male_data = df_combined[df_combined['sex'] == 1]\n",
    "female_data = df_combined[df_combined['sex'] == 2]\n",
    "\n",
    "# 성별별 주중 및 주말 수면 시간에 대한 기술통계 계산\n",
    "male_sleep_stats = male_data[['BP16_1', 'BP16_2']].describe()\n",
    "female_sleep_stats = female_data[['BP16_1', 'BP16_2']].describe()\n",
    "\n",
    "# 결과 출력\n",
    "print(\"남성 데이터 - 주중 및 주말 수면 시간의 기술통계:\")\n",
    "print(male_sleep_stats)\n",
    "print(\"\\n여성 데이터 - 주중 및 주말 수면 시간의 기술통계:\")\n",
    "print(female_sleep_stats)"
   ]
  },
  {
   "cell_type": "code",
   "execution_count": 387,
   "id": "c68bff4e",
   "metadata": {},
   "outputs": [
    {
     "data": {
      "text/html": [
       "<div>\n",
       "<style scoped>\n",
       "    .dataframe tbody tr th:only-of-type {\n",
       "        vertical-align: middle;\n",
       "    }\n",
       "\n",
       "    .dataframe tbody tr th {\n",
       "        vertical-align: top;\n",
       "    }\n",
       "\n",
       "    .dataframe thead th {\n",
       "        text-align: right;\n",
       "    }\n",
       "</style>\n",
       "<table border=\"1\" class=\"dataframe\">\n",
       "  <thead>\n",
       "    <tr style=\"text-align: right;\">\n",
       "      <th></th>\n",
       "      <th>psu</th>\n",
       "      <th>kstrata</th>\n",
       "      <th>wt_itvex</th>\n",
       "      <th>sex</th>\n",
       "      <th>age</th>\n",
       "      <th>HE_obe</th>\n",
       "      <th>mh_stress</th>\n",
       "      <th>BO1</th>\n",
       "      <th>BP16_1</th>\n",
       "      <th>BP16_2</th>\n",
       "    </tr>\n",
       "  </thead>\n",
       "  <tbody>\n",
       "    <tr>\n",
       "      <th>5432</th>\n",
       "      <td>b'J805'</td>\n",
       "      <td>911.0</td>\n",
       "      <td>3854.462708</td>\n",
       "      <td>2.0</td>\n",
       "      <td>74.0</td>\n",
       "      <td>True</td>\n",
       "      <td>0.0</td>\n",
       "      <td>4.0</td>\n",
       "      <td>7.0</td>\n",
       "      <td>7.0</td>\n",
       "    </tr>\n",
       "    <tr>\n",
       "      <th>1721</th>\n",
       "      <td>b'C902'</td>\n",
       "      <td>903.0</td>\n",
       "      <td>4183.491487</td>\n",
       "      <td>1.0</td>\n",
       "      <td>73.0</td>\n",
       "      <td>True</td>\n",
       "      <td>0.0</td>\n",
       "      <td>4.0</td>\n",
       "      <td>8.5</td>\n",
       "      <td>8.5</td>\n",
       "    </tr>\n",
       "    <tr>\n",
       "      <th>6322</th>\n",
       "      <td>b'N804'</td>\n",
       "      <td>926.0</td>\n",
       "      <td>15360.574594</td>\n",
       "      <td>1.0</td>\n",
       "      <td>58.0</td>\n",
       "      <td>False</td>\n",
       "      <td>0.0</td>\n",
       "      <td>3.0</td>\n",
       "      <td>9.0</td>\n",
       "      <td>9.0</td>\n",
       "    </tr>\n",
       "    <tr>\n",
       "      <th>5428</th>\n",
       "      <td>b'J805'</td>\n",
       "      <td>911.0</td>\n",
       "      <td>6181.185449</td>\n",
       "      <td>1.0</td>\n",
       "      <td>64.0</td>\n",
       "      <td>False</td>\n",
       "      <td>0.0</td>\n",
       "      <td>2.0</td>\n",
       "      <td>7.0</td>\n",
       "      <td>7.0</td>\n",
       "    </tr>\n",
       "    <tr>\n",
       "      <th>1537</th>\n",
       "      <td>b'B910'</td>\n",
       "      <td>902.0</td>\n",
       "      <td>5587.080357</td>\n",
       "      <td>1.0</td>\n",
       "      <td>68.0</td>\n",
       "      <td>True</td>\n",
       "      <td>1.0</td>\n",
       "      <td>4.0</td>\n",
       "      <td>5.0</td>\n",
       "      <td>5.0</td>\n",
       "    </tr>\n",
       "    <tr>\n",
       "      <th>3470</th>\n",
       "      <td>b'H810'</td>\n",
       "      <td>909.0</td>\n",
       "      <td>5230.329271</td>\n",
       "      <td>1.0</td>\n",
       "      <td>14.0</td>\n",
       "      <td>False</td>\n",
       "      <td>0.0</td>\n",
       "      <td>3.0</td>\n",
       "      <td>7.0</td>\n",
       "      <td>7.0</td>\n",
       "    </tr>\n",
       "    <tr>\n",
       "      <th>5850</th>\n",
       "      <td>b'J752'</td>\n",
       "      <td>923.0</td>\n",
       "      <td>4478.047218</td>\n",
       "      <td>2.0</td>\n",
       "      <td>68.0</td>\n",
       "      <td>False</td>\n",
       "      <td>0.0</td>\n",
       "      <td>2.0</td>\n",
       "      <td>9.0</td>\n",
       "      <td>9.0</td>\n",
       "    </tr>\n",
       "    <tr>\n",
       "      <th>4575</th>\n",
       "      <td>b'H938'</td>\n",
       "      <td>909.0</td>\n",
       "      <td>9778.172555</td>\n",
       "      <td>1.0</td>\n",
       "      <td>55.0</td>\n",
       "      <td>False</td>\n",
       "      <td>1.0</td>\n",
       "      <td>2.0</td>\n",
       "      <td>6.0</td>\n",
       "      <td>8.0</td>\n",
       "    </tr>\n",
       "    <tr>\n",
       "      <th>203</th>\n",
       "      <td>b'A755'</td>\n",
       "      <td>913.0</td>\n",
       "      <td>4106.379912</td>\n",
       "      <td>2.0</td>\n",
       "      <td>64.0</td>\n",
       "      <td>True</td>\n",
       "      <td>0.0</td>\n",
       "      <td>5.0</td>\n",
       "      <td>6.0</td>\n",
       "      <td>6.0</td>\n",
       "    </tr>\n",
       "    <tr>\n",
       "      <th>5253</th>\n",
       "      <td>b'J801'</td>\n",
       "      <td>911.0</td>\n",
       "      <td>6068.209127</td>\n",
       "      <td>1.0</td>\n",
       "      <td>14.0</td>\n",
       "      <td>False</td>\n",
       "      <td>0.0</td>\n",
       "      <td>2.0</td>\n",
       "      <td>7.0</td>\n",
       "      <td>8.0</td>\n",
       "    </tr>\n",
       "  </tbody>\n",
       "</table>\n",
       "</div>"
      ],
      "text/plain": [
       "          psu  kstrata      wt_itvex  sex   age  HE_obe  mh_stress  BO1  \\\n",
       "5432  b'J805'    911.0   3854.462708  2.0  74.0    True        0.0  4.0   \n",
       "1721  b'C902'    903.0   4183.491487  1.0  73.0    True        0.0  4.0   \n",
       "6322  b'N804'    926.0  15360.574594  1.0  58.0   False        0.0  3.0   \n",
       "5428  b'J805'    911.0   6181.185449  1.0  64.0   False        0.0  2.0   \n",
       "1537  b'B910'    902.0   5587.080357  1.0  68.0    True        1.0  4.0   \n",
       "3470  b'H810'    909.0   5230.329271  1.0  14.0   False        0.0  3.0   \n",
       "5850  b'J752'    923.0   4478.047218  2.0  68.0   False        0.0  2.0   \n",
       "4575  b'H938'    909.0   9778.172555  1.0  55.0   False        1.0  2.0   \n",
       "203   b'A755'    913.0   4106.379912  2.0  64.0    True        0.0  5.0   \n",
       "5253  b'J801'    911.0   6068.209127  1.0  14.0   False        0.0  2.0   \n",
       "\n",
       "      BP16_1  BP16_2  \n",
       "5432     7.0     7.0  \n",
       "1721     8.5     8.5  \n",
       "6322     9.0     9.0  \n",
       "5428     7.0     7.0  \n",
       "1537     5.0     5.0  \n",
       "3470     7.0     7.0  \n",
       "5850     9.0     9.0  \n",
       "4575     6.0     8.0  \n",
       "203      6.0     6.0  \n",
       "5253     7.0     8.0  "
      ]
     },
     "execution_count": 387,
     "metadata": {},
     "output_type": "execute_result"
    }
   ],
   "source": [
    "df_combined['HE_obe'] = df_combined['HE_obe'] >= 4.0\n",
    "df_combined.sample(10)"
   ]
  },
  {
   "cell_type": "code",
   "execution_count": 388,
   "id": "e59132a1",
   "metadata": {},
   "outputs": [
    {
     "name": "stderr",
     "output_type": "stream",
     "text": [
      "C:\\Users\\lau\\AppData\\Local\\Temp\\ipykernel_31660\\1148386998.py:13: SettingWithCopyWarning: \n",
      "A value is trying to be set on a copy of a slice from a DataFrame\n",
      "\n",
      "See the caveats in the documentation: https://pandas.pydata.org/pandas-docs/stable/user_guide/indexing.html#returning-a-view-versus-a-copy\n",
      "  df_cluster.dropna(inplace=True)\n"
     ]
    },
    {
     "data": {
      "image/png": "[encoded data removed]",
      "text/plain": [
       "<Figure size 640x480 with 1 Axes>"
      ]
     },
     "metadata": {},
     "output_type": "display_data"
    },
    {
     "name": "stderr",
     "output_type": "stream",
     "text": [
      "C:\\Users\\lau\\AppData\\Local\\Temp\\ipykernel_31660\\1148386998.py:37: SettingWithCopyWarning: \n",
      "A value is trying to be set on a copy of a slice from a DataFrame.\n",
      "Try using .loc[row_indexer,col_indexer] = value instead\n",
      "\n",
      "See the caveats in the documentation: https://pandas.pydata.org/pandas-docs/stable/user_guide/indexing.html#returning-a-view-versus-a-copy\n",
      "  df['Cluster'] = y_kmeans\n"
     ]
    },
    {
     "data": {
      "image/png": "[encoded data removed]",
      "text/plain": [
       "<Figure size 640x480 with 1 Axes>"
      ]
     },
     "metadata": {},
     "output_type": "display_data"
    }
   ],
   "source": [
    "import pandas as pd\n",
    "from sklearn.preprocessing import StandardScaler\n",
    "from sklearn.cluster import KMeans\n",
    "import matplotlib.pyplot as plt\n",
    "import seaborn as sns\n",
    "\n",
    "# 데이터 불러오기 (df는 여러분의 데이터프레임 이름으로 대체하세요)\n",
    "# df = pd.read_csv('your_data.csv')\n",
    "# 예시 데이터프레임을 사용하겠습니다.\n",
    "\n",
    "# 필요한 변수 선택 및 전처리\n",
    "df_cluster = df[['HE_obe', 'mh_stress', 'BP16_1', 'BP16_2']]\n",
    "df_cluster.dropna(inplace=True)\n",
    "scaler = StandardScaler()\n",
    "df_cluster_scaled = scaler.fit_transform(df_cluster)\n",
    "\n",
    "# 엘보우 방법으로 최적의 군집 수 찾기\n",
    "wcss = []\n",
    "for i in range(1, 11):\n",
    "    kmeans = KMeans(n_clusters=i, init='k-means++', max_iter=300, n_init=10, random_state=0)\n",
    "    kmeans.fit(df_cluster_scaled)\n",
    "    wcss.append(kmeans.inertia_)\n",
    "\n",
    "# 엘보우 그래프 그리기\n",
    "plt.plot(range(1, 11), wcss)\n",
    "plt.title('Elbow Method')\n",
    "plt.xlabel('Number of clusters')\n",
    "plt.ylabel('WCSS')\n",
    "plt.show()\n",
    "\n",
    "# 적절한 군집 수를 선택하여 K-평균 군집화 수행\n",
    "# 예를 들어, 여기서는 3개의 군집을 선택한다고 가정합니다.\n",
    "kmeans = KMeans(n_clusters=3, init='k-means++', max_iter=300, n_init=10, random_state=0)\n",
    "y_kmeans = kmeans.fit_predict(df_cluster_scaled)\n",
    "\n",
    "# 군집화 결과를 원본 데이터프레임에 추가\n",
    "df['Cluster'] = y_kmeans\n",
    "\n",
    "# 군집화 결과 시각화\n",
    "sns.scatterplot(data=df, x='BP16_1', y='HE_obe', hue='Cluster')\n",
    "plt.title('Cluster of Sleep Time and Obesity')\n",
    "plt.show()\n"
   ]
  },
  {
   "cell_type": "code",
   "execution_count": 389,
   "id": "c13b5f66",
   "metadata": {},
   "outputs": [
    {
     "name": "stdout",
     "output_type": "stream",
     "text": [
      "     sex  HE_obe  mh_stress  BO1  BP16_1  BP16_2\n",
      "974   남자    True        0.0  3.0     6.0     6.0\n",
      "4129  남자   False        0.0  3.0     7.0     7.0\n",
      "5797  남자   False        1.0  3.0     7.0     7.0\n",
      "2883  여자   False        0.0  3.0     8.0    10.0\n",
      "1115  남자   False        0.0  4.0    10.0    10.0\n"
     ]
    }
   ],
   "source": [
    "cl = ['sex', 'HE_obe', 'mh_stress', 'BO1', 'BP16_1', 'BP16_2']\n",
    "df = df[cl]\n",
    "df['sex'] = df['sex'].map({1: '남자', 2: '여자'})\n",
    "print(df.sample(5))"
   ]
  },
  {
   "cell_type": "code",
   "execution_count": 392,
   "id": "1fde7c37",
   "metadata": {},
   "outputs": [
    {
     "name": "stderr",
     "output_type": "stream",
     "text": [
      "C:\\Users\\lau\\anaconda3\\Lib\\site-packages\\sklearn\\linear_model\\_logistic.py:460: ConvergenceWarning: lbfgs failed to converge (status=1):\n",
      "STOP: TOTAL NO. of ITERATIONS REACHED LIMIT.\n",
      "\n",
      "Increase the number of iterations (max_iter) or scale the data as shown in:\n",
      "    https://scikit-learn.org/stable/modules/preprocessing.html\n",
      "Please also refer to the documentation for alternative solver options:\n",
      "    https://scikit-learn.org/stable/modules/linear_model.html#logistic-regression\n",
      "  n_iter_i = _check_optimize_result(\n"
     ]
    },
    {
     "data": {
      "text/html": [
       "<style>#sk-container-id-2 {color: black;}#sk-container-id-2 pre{padding: 0;}#sk-container-id-2 div.sk-toggleable {background-color: white;}#sk-container-id-2 label.sk-toggleable__label {cursor: pointer;display: block;width: 100%;margin-bottom: 0;padding: 0.3em;box-sizing: border-box;text-align: center;}#sk-container-id-2 label.sk-toggleable__label-arrow:before {content: \"▸\";float: left;margin-right: 0.25em;color: #696969;}#sk-container-id-2 label.sk-toggleable__label-arrow:hover:before {color: black;}#sk-container-id-2 div.sk-estimator:hover label.sk-toggleable__label-arrow:before {color: black;}#sk-container-id-2 div.sk-toggleable__content {max-height: 0;max-width: 0;overflow: hidden;text-align: left;background-color: #f0f8ff;}#sk-container-id-2 div.sk-toggleable__content pre {margin: 0.2em;color: black;border-radius: 0.25em;background-color: #f0f8ff;}#sk-container-id-2 input.sk-toggleable__control:checked~div.sk-toggleable__content {max-height: 200px;max-width: 100%;overflow: auto;}#sk-container-id-2 input.sk-toggleable__control:checked~label.sk-toggleable__label-arrow:before {content: \"▾\";}#sk-container-id-2 div.sk-estimator input.sk-toggleable__control:checked~label.sk-toggleable__label {background-color: #d4ebff;}#sk-container-id-2 div.sk-label input.sk-toggleable__control:checked~label.sk-toggleable__label {background-color: #d4ebff;}#sk-container-id-2 input.sk-hidden--visually {border: 0;clip: rect(1px 1px 1px 1px);clip: rect(1px, 1px, 1px, 1px);height: 1px;margin: -1px;overflow: hidden;padding: 0;position: absolute;width: 1px;}#sk-container-id-2 div.sk-estimator {font-family: monospace;background-color: #f0f8ff;border: 1px dotted black;border-radius: 0.25em;box-sizing: border-box;margin-bottom: 0.5em;}#sk-container-id-2 div.sk-estimator:hover {background-color: #d4ebff;}#sk-container-id-2 div.sk-parallel-item::after {content: \"\";width: 100%;border-bottom: 1px solid gray;flex-grow: 1;}#sk-container-id-2 div.sk-label:hover label.sk-toggleable__label {background-color: #d4ebff;}#sk-container-id-2 div.sk-serial::before {content: \"\";position: absolute;border-left: 1px solid gray;box-sizing: border-box;top: 0;bottom: 0;left: 50%;z-index: 0;}#sk-container-id-2 div.sk-serial {display: flex;flex-direction: column;align-items: center;background-color: white;padding-right: 0.2em;padding-left: 0.2em;position: relative;}#sk-container-id-2 div.sk-item {position: relative;z-index: 1;}#sk-container-id-2 div.sk-parallel {display: flex;align-items: stretch;justify-content: center;background-color: white;position: relative;}#sk-container-id-2 div.sk-item::before, #sk-container-id-2 div.sk-parallel-item::before {content: \"\";position: absolute;border-left: 1px solid gray;box-sizing: border-box;top: 0;bottom: 0;left: 50%;z-index: -1;}#sk-container-id-2 div.sk-parallel-item {display: flex;flex-direction: column;z-index: 1;position: relative;background-color: white;}#sk-container-id-2 div.sk-parallel-item:first-child::after {align-self: flex-end;width: 50%;}#sk-container-id-2 div.sk-parallel-item:last-child::after {align-self: flex-start;width: 50%;}#sk-container-id-2 div.sk-parallel-item:only-child::after {width: 0;}#sk-container-id-2 div.sk-dashed-wrapped {border: 1px dashed gray;margin: 0 0.4em 0.5em 0.4em;box-sizing: border-box;padding-bottom: 0.4em;background-color: white;}#sk-container-id-2 div.sk-label label {font-family: monospace;font-weight: bold;display: inline-block;line-height: 1.2em;}#sk-container-id-2 div.sk-label-container {text-align: center;}#sk-container-id-2 div.sk-container {/* jupyter's `normalize.less` sets `[hidden] { display: none; }` but bootstrap.min.css set `[hidden] { display: none !important; }` so we also need the `!important` here to be able to override the default hidden behavior on the sphinx rendered scikit-learn.org. See: https://github.com/scikit-learn/scikit-learn/issues/21755 */display: inline-block !important;position: relative;}#sk-container-id-2 div.sk-text-repr-fallback {display: none;}</style><div id=\"sk-container-id-2\" class=\"sk-top-container\"><div class=\"sk-text-repr-fallback\"><pre>LogisticRegression()</pre><b>In a Jupyter environment, please rerun this cell to show the HTML representation or trust the notebook. <br />On GitHub, the HTML representation is unable to render, please try loading this page with nbviewer.org.</b></div><div class=\"sk-container\" hidden><div class=\"sk-item\"><div class=\"sk-estimator sk-toggleable\"><input class=\"sk-toggleable__control sk-hidden--visually\" id=\"sk-estimator-id-2\" type=\"checkbox\" checked><label for=\"sk-estimator-id-2\" class=\"sk-toggleable__label sk-toggleable__label-arrow\">LogisticRegression</label><div class=\"sk-toggleable__content\"><pre>LogisticRegression()</pre></div></div></div></div></div>"
      ],
      "text/plain": [
       "LogisticRegression()"
      ]
     },
     "execution_count": 392,
     "metadata": {},
     "output_type": "execute_result"
    }
   ],
   "source": [
    "import pandas as pd\n",
    "from sklearn.model_selection import train_test_split\n",
    "from sklearn.linear_model import LogisticRegression\n",
    "from sklearn.metrics import classification_report, confusion_matrix, roc_curve, auc\n",
    "import matplotlib.pyplot as plt\n",
    "import seaborn as sns\n",
    "\n",
    "\n",
    "df_encoded = pd.get_dummies(df, columns=['sex', 'mh_stress', 'BO1'], drop_first=True)\n",
    "\n",
    "# 비만 유병 여부를 정수로 변환\n",
    "df_encoded['HE_obe'] = df_encoded['HE_obe'].astype(int)\n",
    "\n",
    "# 특징과 레이블 분리\n",
    "X = df_encoded.drop('HE_obe', axis=1)\n",
    "y = df_encoded['HE_obe']\n",
    "\n",
    "# 훈련 및 테스트 데이터 분할\n",
    "X_train, X_test, y_train, y_test = train_test_split(X, y, test_size=0.3, random_state=42)\n",
    "\n",
    "# 모델 생성 및 훈련\n",
    "model = LogisticRegression()\n",
    "model.fit(X_train, y_train)"
   ]
  },
  {
   "cell_type": "code",
   "execution_count": 393,
   "id": "0344bc6b",
   "metadata": {},
   "outputs": [
    {
     "data": {
      "image/png": "[encoded data removed]",
      "text/plain": [
       "<Figure size 640x480 with 2 Axes>"
      ]
     },
     "metadata": {},
     "output_type": "display_data"
    }
   ],
   "source": [
    "# 테스트 데이터에 대한 예측\n",
    "predictions = model.predict(X_test)\n",
    "\n",
    "# 혼동 행렬 시각화\n",
    "cm = confusion_matrix(y_test, predictions)\n",
    "sns.heatmap(cm, annot=True, fmt=\"d\")\n",
    "plt.title('Confusion Matrix')\n",
    "plt.ylabel('Actual label')\n",
    "plt.xlabel('Predicted label')\n",
    "plt.show()\n"
   ]
  },
  {
   "cell_type": "code",
   "execution_count": 394,
   "id": "0720e078",
   "metadata": {},
   "outputs": [
    {
     "data": {
      "image/png": "[encoded data removed]",
      "text/plain": [
       "<Figure size 640x480 with 1 Axes>"
      ]
     },
     "metadata": {},
     "output_type": "display_data"
    }
   ],
   "source": [
    "# ROC 곡선 및 AUC\n",
    "y_scores = model.predict_proba(X_test)[:, 1]\n",
    "fpr, tpr, threshold = roc_curve(y_test, y_scores)\n",
    "roc_auc = auc(fpr, tpr)\n",
    "\n",
    "plt.figure()\n",
    "plt.plot(fpr, tpr, color='darkorange', lw=2, label='ROC curve (area = %0.2f)' % roc_auc)\n",
    "plt.plot([0, 1], [0, 1], color='navy', lw=2, linestyle='--')\n",
    "plt.xlim([0.0, 1.0])\n",
    "plt.ylim([0.0, 1.05])\n",
    "plt.xlabel('False Positive Rate')\n",
    "plt.ylabel('True Positive Rate')\n",
    "plt.title('Receiver Operating Characteristic')\n",
    "plt.legend(loc=\"lower right\")\n",
    "plt.show()\n"
   ]
  },
  {
   "cell_type": "code",
   "execution_count": 395,
   "id": "a621fc80",
   "metadata": {},
   "outputs": [
    {
     "name": "stdout",
     "output_type": "stream",
     "text": [
      "         Feature  Coefficient\n",
      "0         BP16_1     0.046439\n",
      "1         BP16_2    -0.092654\n",
      "2         sex_여자    -1.146645\n",
      "3  mh_stress_1.0    -0.276789\n",
      "4        BO1_2.0    -1.026756\n",
      "5        BO1_3.0     1.180997\n",
      "6        BO1_4.0     3.556380\n",
      "7        BO1_5.0     6.244270\n"
     ]
    }
   ],
   "source": [
    "# 회귀 계수 추출\n",
    "coefficients = model.coef_[0]\n",
    "features = X_train.columns\n",
    "coeff_df = pd.DataFrame({'Feature': features, 'Coefficient': coefficients})\n",
    "\n",
    "# 회귀 계수 출력\n",
    "print(coeff_df)\n",
    "\n",
    "# 회귀 계수의 영향 해석\n",
    "# 각 특성의 회귀 계수가 양수이면, 해당 특성이 증가함에 따라 종속 변수(여기서는 비만 유병 여부)가 증가하는 경향이 있음을 의미합니다.\n",
    "# 반대로 음수이면, 해당 특성이 증가함에 따라 종속 변수가 감소하는 경향이 있음을 의미합니다.\n"
   ]
  },
  {
   "cell_type": "code",
   "execution_count": null,
   "id": "c4eaccaa",
   "metadata": {},
   "outputs": [],
   "source": []
  }
 ],
 "metadata": {
  "kernelspec": {
   "display_name": "Python 3 (ipykernel)",
   "language": "python",
   "name": "python3"
  },
  "language_info": {
   "codemirror_mode": {
    "name": "ipython",
    "version": 3
   },
   "file_extension": ".py",
   "mimetype": "text/x-python",
   "name": "python",
   "nbconvert_exporter": "python",
   "pygments_lexer": "ipython3",
   "version": "3.11.5"
  }
 },
 "nbformat": 4,
 "nbformat_minor": 5
}
